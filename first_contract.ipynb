{
 "cells": [
  {
   "cell_type": "code",
   "execution_count": 82,
   "metadata": {},
   "outputs": [],
   "source": [
    "import getpass\n",
    "class Contract(object) :\n",
    "    \"\"\"A contract is a bilateral aggreement between two parties. \n",
    "    This particular Contract object only covers the main parts of Contract Laws in general.\"\"\"\n",
    "    \"\"\"Main attributes of a contract are offeror, acceptor and contract product\"\"\"\n",
    "    class Crime(object) :\n",
    "        def __init__()\n",
    "    def __init__(self, offeror, acceptor, contract_product, consideration) :\n",
    "        \"\"\"The main attributes are defined as the input given\"\"\"\n",
    "        self.offeror = offeror\n",
    "        self.acceptor = acceptor\n",
    "        self.contract_product = contract_product\n",
    "        if Crime(object) is in str(contract_product) :\n",
    "            print(\"No crime here!\")\n",
    "            print(\"Contract is not valid\")\n",
    "        else :\n",
    "            pass\n",
    "        self.consideration = consideration\n",
    "        \n",
    "       \n",
    "    def signed(self) :\n",
    "        \"\"\"This action is the signing of the contract. \n",
    "        It does not necessarily mean that this is a valid contract. \n",
    "        Only means that contract has been signed by the appropriate parties.\"\"\"\n",
    "        signature_offeror = getpass.getpass(prompt = \"Enter offeror key: \")\n",
    "        signature_acceptor = getpass.getpass(prompt = \"Enter acceptor key: \")\n",
    "        if signature_offeror == \"123\" and signature_acceptor == \"456\" : \n",
    "            print(\"Contract signed, validity pending\")\n",
    "            return True\n",
    "        else :\n",
    "            print(\"Contract is not signed\")\n",
    "            return False\n",
    "    def delivery(self) :\n",
    "        \"\"\"This function determines if the delivery has been done. Requires acceptor key input\"\"\"\n",
    "        inpkey = getpass.getpass(prompt = \"If the delivery is done enter acceptor key: \")\n",
    "        if inpkey == \"456\" :\n",
    "            print(\"Delivery confirmed\")\n",
    "            return True\n",
    "            \n",
    "        else :\n",
    "            print(\"Delivery is not confirmed\")\n",
    "            return False\n",
    "     \n",
    "    def payment(self) :\n",
    "        \"\"\"This function does the payment in a real smart contract. Here, we will fake it\"\"\"\n",
    "        if self.signed() == True and self.delivery() == True :\n",
    "            print(\"Payment is done\")\n",
    "            return True\n",
    "        else :\n",
    "            print(\"Payment cannot be done without the required parameters\")\n",
    "            return False\n",
    "            \n",
    "    "
   ]
  },
  {
   "cell_type": "code",
   "execution_count": 83,
   "metadata": {},
   "outputs": [
    {
     "name": "stdout",
     "output_type": "stream",
     "text": [
      "Enter offeror key: ········\n",
      "Enter acceptor key: ········\n",
      "Contract signed, validity pending\n",
      "If the delivery is done enter acceptor key: ········\n",
      "Delivery confirmed\n",
      "Enter offeror key: ········\n",
      "Enter acceptor key: ········\n",
      "Contract signed, validity pending\n",
      "If the delivery is done enter acceptor key: ········\n",
      "Delivery confirmed\n",
      "Payment is done\n"
     ]
    },
    {
     "data": {
      "text/plain": [
       "True"
      ]
     },
     "execution_count": 83,
     "metadata": {},
     "output_type": "execute_result"
    }
   ],
   "source": [
    "my_contract = Contract(\"seyma\", \"me_again\", \"book\", \"good_wishes\")\n",
    "my_contract.signed()\n",
    "my_contract.delivery()\n",
    "my_contract.payment()\n",
    "    \n",
    "\n"
   ]
  },
  {
   "cell_type": "code",
   "execution_count": null,
   "metadata": {},
   "outputs": [],
   "source": []
  }
 ],
 "metadata": {
  "kernelspec": {
   "display_name": "Python 3",
   "language": "python",
   "name": "python3"
  },
  "language_info": {
   "codemirror_mode": {
    "name": "ipython",
    "version": 3
   },
   "file_extension": ".py",
   "mimetype": "text/x-python",
   "name": "python",
   "nbconvert_exporter": "python",
   "pygments_lexer": "ipython3",
   "version": "3.6.4"
  }
 },
 "nbformat": 4,
 "nbformat_minor": 2
}
