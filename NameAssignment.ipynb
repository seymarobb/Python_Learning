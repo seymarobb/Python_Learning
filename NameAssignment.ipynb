{
 "cells": [
  {
   "cell_type": "code",
   "execution_count": 26,
   "metadata": {},
   "outputs": [
    {
     "name": "stdout",
     "output_type": "stream",
     "text": [
      "Retrieving: http://py4e-data.dr-chuck.net/known_by_Siubhan.html\n"
     ]
    },
    {
     "name": "stdout",
     "output_type": "stream",
     "text": [
      "Retrieving: http://py4e-data.dr-chuck.net/known_by_Meyzhward.html\n",
      "Retrieving: http://py4e-data.dr-chuck.net/known_by_Kahlan.html\n",
      "Retrieving: http://py4e-data.dr-chuck.net/known_by_Mae.html\n",
      "Retrieving: http://py4e-data.dr-chuck.net/known_by_Letitia.html\n",
      "Retrieving: http://py4e-data.dr-chuck.net/known_by_Ellisandro.html\n",
      "Retrieving: http://py4e-data.dr-chuck.net/known_by_Motade.html\n",
      "Retrieving: http://py4e-data.dr-chuck.net/known_by_Eamonn.html\n"
     ]
    }
   ],
   "source": [
    "import urllib.request\n",
    "from bs4 import BeautifulSoup as bs\n",
    "\n",
    "url = \"http://py4e-data.dr-chuck.net/known_by_Siubhan.html\"\n",
    "count = 7\n",
    "position = 18\n",
    "\n",
    "def roundandround(url):\n",
    "    print('Retrieving: ' + url)\n",
    "    f = urllib.request.urlopen(url).read()\n",
    "    soup = bs(f)\n",
    "    \n",
    "    link = list()\n",
    "    for tag in soup('a'):\n",
    "        link.append(tag.get('href', None))\n",
    "    return(link)\n",
    "\n",
    "\n",
    "for x in range(1, count + 2):\n",
    "    url = allerretour(url)[position-1]"
   ]
  },
  {
   "cell_type": "code",
   "execution_count": null,
   "metadata": {},
   "outputs": [],
   "source": []
  },
  {
   "cell_type": "code",
   "execution_count": null,
   "metadata": {},
   "outputs": [],
   "source": []
  }
 ],
 "metadata": {
  "kernelspec": {
   "display_name": "Python 3",
   "language": "python",
   "name": "python3"
  },
  "language_info": {
   "codemirror_mode": {
    "name": "ipython",
    "version": 3
   },
   "file_extension": ".py",
   "mimetype": "text/x-python",
   "name": "python",
   "nbconvert_exporter": "python",
   "pygments_lexer": "ipython3",
   "version": "3.6.4"
  }
 },
 "nbformat": 4,
 "nbformat_minor": 2
}
