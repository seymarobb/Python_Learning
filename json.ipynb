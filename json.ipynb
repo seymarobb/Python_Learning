{
 "cells": [
  {
   "cell_type": "code",
   "execution_count": 1,
   "metadata": {},
   "outputs": [],
   "source": [
    "import json"
   ]
  },
  {
   "cell_type": "code",
   "execution_count": 2,
   "metadata": {},
   "outputs": [
    {
     "name": "stdout",
     "output_type": "stream",
     "text": [
      "Name: Chuck\n",
      "Hide: yes\n"
     ]
    }
   ],
   "source": [
    "data = ''' {\n",
    "    \"name\" : \"Chuck\",\n",
    "    \"phone\" : {\n",
    "        \"type\" : \"intl\",\n",
    "        \"number\" : \"+1 734 303 4456\"\n",
    "    },\n",
    "    \"email\" : {\n",
    "        \"hide\" : \"yes\"\n",
    "    }\n",
    "}'''\n",
    "\n",
    "info = json.loads(data)\n",
    "print(\"Name:\", info[\"name\"])\n",
    "print(\"Hide:\", info[\"email\"][\"hide\"])\n"
   ]
  },
  {
   "cell_type": "code",
   "execution_count": 3,
   "metadata": {},
   "outputs": [
    {
     "name": "stdout",
     "output_type": "stream",
     "text": [
      "User count: 2\n",
      "Name: Chuck\n",
      "Id 001\n",
      "Attribute 2\n",
      "Name: Chuck\n",
      "Id 009\n",
      "Attribute 7\n"
     ]
    }
   ],
   "source": [
    "input = '''[\n",
    "    { \"id\" : \"001\",\n",
    "    \"x\" : \"2\",\n",
    "    \"name\" : \"Chuck\"\n",
    "    } ,\n",
    "    { \"id\" : \"009\", \n",
    "    \"x\" : \"7\",\n",
    "    \"name\" : \"Chuck\"\n",
    "    }\n",
    "]'''\n",
    "\n",
    "info = json.loads(input)\n",
    "print(\"User count:\", len(info))\n",
    "\n",
    "for item in info :\n",
    "    print(\"Name:\", item[\"name\"])\n",
    "    print(\"Id\", item[\"id\"])\n",
    "    print(\"Attribute\", item[\"x\"])\n",
    "    \n",
    "    "
   ]
  },
  {
   "cell_type": "code",
   "execution_count": null,
   "metadata": {},
   "outputs": [],
   "source": [
    "import urllib.request, urllib.parse, urllib.error\n",
    "import json\n",
    "\n",
    "serviceurl = \"http://py4e-data.dr-chuck.net/geojson?\"\n",
    "\n",
    "while True :\n",
    "    address = \"Monash University\"\n",
    "    if len(address) < 1: break\n",
    "        \n",
    "    url = serviceurl + urllib.parse.urlencode(\n",
    "        {\"address\": address})\n",
    "    uh = urllib.request.urlopen(url)\n",
    "    data = uh.read().decode()   \n",
    "    try:\n",
    "        js = json.loads(data)\n",
    "    except :\n",
    "        js = None\n",
    "        \n",
    "    if not js or \"status\" not in js or js[\"status\"] != \"OK\" :\n",
    "        print(\"==== Failure To Retrieve ====\")\n",
    "        print(data)\n",
    "        continue\n",
    "\n",
    "    placeid = js[\"results\"][0][\"place_id\"]\n",
    "print(placeid)\n"
   ]
  },
  {
   "cell_type": "code",
   "execution_count": 11,
   "metadata": {},
   "outputs": [
    {
     "name": "stdout",
     "output_type": "stream",
     "text": [
      "Comment count: 50\n",
      "2676\n"
     ]
    }
   ],
   "source": [
    "import urllib.request, urllib.parse, urllib.error\n",
    "import json\n",
    "\n",
    "geturl = urllib.request.urlopen(\"http://py4e-data.dr-chuck.net/comments_60728.json\")\n",
    "\n",
    "data = geturl.read().decode()\n",
    "js = json.loads(data)\n",
    "comments = js[\"comments\"]\n",
    "print(\"Comment count:\", len(comments))\n",
    "countlst = list()\n",
    "for item in comments :\n",
    "    countlst.append(item[\"count\"])\n",
    "print(sum(countlst))    \n",
    "\n",
    "    "
   ]
  }
 ],
 "metadata": {
  "kernelspec": {
   "display_name": "Python 3",
   "language": "python",
   "name": "python3"
  },
  "language_info": {
   "codemirror_mode": {
    "name": "ipython",
    "version": 3
   },
   "file_extension": ".py",
   "mimetype": "text/x-python",
   "name": "python",
   "nbconvert_exporter": "python",
   "pygments_lexer": "ipython3",
   "version": "3.6.4"
  }
 },
 "nbformat": 4,
 "nbformat_minor": 2
}
